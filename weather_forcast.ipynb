{
 "cells": [
  {
   "cell_type": "code",
   "execution_count": null,
   "id": "f666ea72-7b7f-4fbb-b331-d89507df55b9",
   "metadata": {},
   "outputs": [],
   "source": [
    "# Import libraries\n",
    "import pandas as pd\n",
    "pd.plotting.register_matplotlib_converters()\n",
    "import matplotlib.pyplot as plt\n",
    "from matplotlib.dates import ConciseDateFormatter, AutoDateLocator\n",
    "import seaborn as sns\n",
    "\n",
    "from statsmodels.tsa.deterministic import DeterministicProcess\n",
    "from sklearn.linear_model import LinearRegression\n",
    "from sklearn.impute import SimpleImputer\n",
    "from sklearn.pipeline import Pipeline\n",
    "from sklearn.compose import ColumnTransformer\n",
    "from sklearn.model_selection import train_test_split\n",
    "from sklearn.metrics import mean_absolute_error, mean_absolute_percentage_error"
   ]
  },
  {
   "cell_type": "code",
   "execution_count": null,
   "id": "52628f47-0414-4bde-8a35-47f2d5ae69fe",
   "metadata": {},
   "outputs": [],
   "source": [
    "weather = pd.read_csv('./data/weather_data.csv')\n",
    "fremont = weather[weather.NAME == 'FREMONT CANYON CALIFORNIA, CA US'].copy()\n",
    "fremont['DATE'] = pd.to_datetime(fremont['DATE'])\n",
    "fremont = fremont.set_index('DATE')\n",
    "fremont = fremont.asfreq('d')\n",
    "\n",
    "# Backfill empty dates\n",
    "fremont.loc['2016-02-20'] = fremont.loc['2016-02-19']\n",
    "fremont.loc['2016-02-21'] = fremont.loc['2016-02-20']\n",
    "fremont.loc['2021-07-22'] = fremont.loc['2021-07-21']\n",
    "fremont.loc['2023-12-31'] = fremont.loc['2023-12-30']\n",
    "\n",
    "# Fremont train data before 2024\n",
    "fremont_train = fremont[fremont.index < '2024-01-01']\n",
    "fremont_valid = fremont[(fremont.index >= '2024-01-01') & (fremont.index < '2025-01-01')]\n",
    "fremont_valid_y = fremont_valid.TAVG\n",
    "\n",
    "FIGSIZE = (28,10)"
   ]
  },
  {
   "cell_type": "code",
   "execution_count": null,
   "id": "8a74f5dd-f75a-490b-a893-cf5e8a3350f3",
   "metadata": {},
   "outputs": [],
   "source": [
    "fremont"
   ]
  },
  {
   "cell_type": "code",
   "execution_count": null,
   "id": "760234f2-1c78-40c2-88f3-a7273a4dc5c2",
   "metadata": {},
   "outputs": [],
   "source": [
    "plt.figure(figsize=FIGSIZE)\n",
    "plt.xticks(rotation=90)\n",
    "plt.xlabel(\"Year\")\n",
    "plt.ylabel(\"Average Temp. (F)\")\n",
    "plt.title(\"Average Daily Temperature (2015 - 2025)\")\n",
    "plt.suptitle(\"FREMONT CANYON CALIFORNIA, CA US\")\n",
    "\n",
    "ax = plt.gca()\n",
    "locator = AutoDateLocator()\n",
    "formatter = ConciseDateFormatter(locator)\n",
    "ax.xaxis.set_major_locator(locator)\n",
    "ax.xaxis.set_major_formatter(formatter)\n",
    "\n",
    "G = sns.lineplot(ax=ax, data=fremont, x=fremont.index, y=fremont.TAVG, linewidth=1)"
   ]
  },
  {
   "cell_type": "code",
   "execution_count": null,
   "id": "090a9c6e-43b9-4408-a4ef-efc0320718e9",
   "metadata": {},
   "outputs": [],
   "source": [
    "year_ma = fremont.TAVG.rolling(window=365, center=True, min_periods=180).mean()\n",
    "month_ma = fremont.TAVG.rolling(window=30, center=True, min_periods=15).mean()\n",
    "week_ma = fremont.TAVG.rolling(window=7, center=True).mean()\n",
    "\n",
    "plt.figure(figsize=FIGSIZE)\n",
    "plt.xticks(rotation=90)\n",
    "plt.xlabel(\"Year\")\n",
    "plt.ylabel(\"Average Temp. (F)\")\n",
    "\n",
    "ax = plt.gca()\n",
    "locator = AutoDateLocator()\n",
    "formatter = ConciseDateFormatter(locator)\n",
    "ax.xaxis.set_major_locator(locator)\n",
    "ax.xaxis.set_major_formatter(formatter)\n",
    "\n",
    "sns.lineplot(ax=ax, data=fremont, x=fremont.index, y=fremont.TAVG, alpha=.2, linewidth=1.5, label=\"Daily Temperature\")\n",
    "sns.lineplot(ax=ax, x=year_ma.index, y=year_ma, linewidth=3, label=\"Year MA\")\n",
    "sns.lineplot(ax=ax, x=month_ma.index, y=month_ma, linewidth=3, label=\"Month MA\")"
   ]
  },
  {
   "cell_type": "code",
   "execution_count": null,
   "id": "7288fbf6-7aaf-4cec-ab74-d1e3efb1780a",
   "metadata": {},
   "outputs": [],
   "source": [
    "linear_model = LinearRegression()\n",
    "linear_pipeline = Pipeline(steps=[('model', linear_model)])\n",
    "\n",
    "linear_model_dp = DeterministicProcess(index=fremont_train.index, constant=True, order=1, drop=True)\n",
    "linear_model_X = linear_model_dp.in_sample()\n",
    "linear_model_X_valid = linear_model_dp.out_of_sample(steps=366)\n",
    "linear_model_y = fremont_train.TAVG\n",
    "linear_pipeline.fit(linear_model_X, linear_model_y)\n",
    "linear_model_train_preds = pd.Series(linear_pipeline.predict(linear_model_X), index=linear_model_X.index)\n",
    "linear_model_valid_preds = pd.Series(linear_pipeline.predict(linear_model_X_valid), index=linear_model_X_valid.index)\n",
    "\n",
    "# Test model accuracy\n",
    "linear_model_mae = mean_absolute_error(fremont_valid_y, linear_model_valid_preds)\n",
    "linear_model_mape = mean_absolute_percentage_error(fremont_valid_y, linear_model_valid_preds)\n",
    "linear_model_accuracy = 1 - linear_model_mape\n",
    "\n",
    "plt.figure(figsize=FIGSIZE)\n",
    "plt.xticks(rotation=90)\n",
    "plt.xlabel(\"Year\")\n",
    "plt.ylabel(\"Average Temp. (F)\")\n",
    "plt.title(f\"Linear Model Prections (MAE: {linear_model_mae:.2f}) - (MAPE: {(linear_model_mape * 100):.2f}%) - (Accuracy: {(linear_model_accuracy * 100):.2f}%)\")\n",
    "\n",
    "ax = plt.gca()\n",
    "locator = AutoDateLocator()\n",
    "formatter = ConciseDateFormatter(locator)\n",
    "ax.xaxis.set_major_locator(locator)\n",
    "ax.xaxis.set_major_formatter(formatter)\n",
    "\n",
    "sns.lineplot(ax=ax, data=fremont, x=fremont.index, y=fremont.TAVG, alpha=.2, linewidth=1.5, label=\"Daily Temperature\")\n",
    "sns.lineplot(ax=ax, x=linear_model_train_preds.index, y=linear_model_train_preds, linewidth=3, label=\"Training Data\")\n",
    "sns.lineplot(ax=ax, x=linear_model_valid_preds.index, y=linear_model_valid_preds, linewidth=3, label=\"Model Predictions\")"
   ]
  }
 ],
 "metadata": {
  "kernelspec": {
   "display_name": "Python 3 (ipykernel)",
   "language": "python",
   "name": "python3"
  },
  "language_info": {
   "codemirror_mode": {
    "name": "ipython",
    "version": 3
   },
   "file_extension": ".py",
   "mimetype": "text/x-python",
   "name": "python",
   "nbconvert_exporter": "python",
   "pygments_lexer": "ipython3",
   "version": "3.11.2"
  }
 },
 "nbformat": 4,
 "nbformat_minor": 5
}
